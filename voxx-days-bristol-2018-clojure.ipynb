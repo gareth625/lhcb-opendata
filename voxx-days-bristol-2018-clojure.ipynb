{
 "cells": [
  {
   "cell_type": "markdown",
   "metadata": {},
   "source": [
    "# Voxx Days Bristol 2018"
   ]
  },
  {
   "cell_type": "markdown",
   "metadata": {},
   "source": [
    "# Clojure\n",
    "\n",
    "[<img src=\"./clojure-dark-blue-icon.png\" align=\"left\" width=\"200\">](https://clojure.org)"
   ]
  },
  {
   "cell_type": "markdown",
   "metadata": {},
   "source": [
    "* [Clojure](https://clojure.org) is a lisp programming language\n",
    "* It aims to be approachable and allow interactive development\n",
    "* Reads like a lot of languages: `function-anme arg0 arg1` but everything is a list which means a lot of parentheses"
   ]
  },
  {
   "cell_type": "code",
   "execution_count": 1,
   "metadata": {},
   "outputs": [
    {
     "data": {
      "text/plain": [
       "[0, 2, 4, 6, 8]"
      ]
     },
     "execution_count": 1,
     "metadata": {},
     "output_type": "execute_result"
    }
   ],
   "source": [
    "(range 0 10 2)"
   ]
  },
  {
   "cell_type": "code",
   "execution_count": 2,
   "metadata": {},
   "outputs": [
    {
     "data": {
      "text/plain": [
       "[0, 2, 4, 6, 8]"
      ]
     },
     "execution_count": 2,
     "metadata": {},
     "output_type": "execute_result"
    }
   ],
   "source": [
    ";; although sometimes we need a list\n",
    "'(0 2 4 6 8)\n",
    ";; P.S. I'm a comment"
   ]
  },
  {
   "cell_type": "markdown",
   "metadata": {},
   "source": [
    "* Everything is dynamically typed"
   ]
  },
  {
   "cell_type": "code",
   "execution_count": 3,
   "metadata": {},
   "outputs": [
    {
     "data": {
      "text/plain": [
       "[0, b, c, 4.0, 11/2, :6]"
      ]
     },
     "execution_count": 3,
     "metadata": {},
     "output_type": "execute_result"
    }
   ],
   "source": [
    "(def xs\n",
    "  \"Defines a symbol `xs` which is bound to an vector of mixed types.\n",
    "  \n",
    "  I'm the doc string.\"\n",
    "  [0 \"b\" \\c 4.0 11/2 :6])\n",
    "\n",
    "xs"
   ]
  },
  {
   "cell_type": "markdown",
   "metadata": {},
   "source": [
    "* We can now use the symbol `xs`\n",
    "* Lets see what the type of all those elements are"
   ]
  },
  {
   "cell_type": "code",
   "execution_count": 4,
   "metadata": {},
   "outputs": [
    {
     "data": {
      "text/plain": [
       "[java.lang.Long, java.lang.String, java.lang.Character, java.lang.Double, clojure.lang.Ratio, clojure.lang.Keyword]"
      ]
     },
     "execution_count": 4,
     "metadata": {},
     "output_type": "execute_result"
    }
   ],
   "source": [
    "(map type xs)"
   ]
  },
  {
   "cell_type": "markdown",
   "metadata": {},
   "source": [
    "* Clojure is predominately a functional programming language\n",
    "* `type` is a function passed as the first argument to the `map` function, the list bound to `xs` is the second argument\n",
    "  * `map` is a function that is used to transform a sequence\n",
    "* All data is immutable, no assignment but we can make a modified copy"
   ]
  },
  {
   "cell_type": "code",
   "execution_count": 12,
   "metadata": {},
   "outputs": [
    {
     "data": {
      "text/plain": [
       "[0, b, c, 4.0, 11/2, :6, {:seven 7}]"
      ]
     },
     "execution_count": 12,
     "metadata": {},
     "output_type": "execute_result"
    }
   ],
   "source": [
    "(conj xs {:seven 7})"
   ]
  },
  {
   "cell_type": "code",
   "execution_count": 11,
   "metadata": {},
   "outputs": [
    {
     "data": {
      "text/plain": [
       "[0, b, c, 4.0, 11/2, :6]"
      ]
     },
     "execution_count": 11,
     "metadata": {},
     "output_type": "execute_result"
    }
   ],
   "source": [
    "xs"
   ]
  },
  {
   "cell_type": "markdown",
   "metadata": {},
   "source": [
    "* Like lisp code is data giving us a powerful macro language"
   ]
  },
  {
   "cell_type": "code",
   "execution_count": 6,
   "metadata": {},
   "outputs": [
    {
     "data": {
      "text/plain": [
       "132"
      ]
     },
     "execution_count": 6,
     "metadata": {},
     "output_type": "execute_result"
    }
   ],
   "source": [
    "(def multiply\n",
    "  \"A silly way to multiple two numbers.\n",
    "  \n",
    "  It's not the standard way to define a function.\"\n",
    "  (fn [x y]\n",
    "    (reduce + (repeat x y))))\n",
    "\n",
    "(multiply 12 11)"
   ]
  },
  {
   "cell_type": "code",
   "execution_count": 15,
   "metadata": {},
   "outputs": [
    {
     "data": {
      "text/plain": [
       "132"
      ]
     },
     "execution_count": 15,
     "metadata": {},
     "output_type": "execute_result"
    }
   ],
   "source": [
    "(* 12 11)"
   ]
  },
  {
   "cell_type": "markdown",
   "metadata": {},
   "source": [
    "* Function declaration is very common so a macro `defn` is provided"
   ]
  },
  {
   "cell_type": "code",
   "execution_count": 7,
   "metadata": {},
   "outputs": [
    {
     "data": {
      "text/plain": [
       "182"
      ]
     },
     "execution_count": 7,
     "metadata": {},
     "output_type": "execute_result"
    }
   ],
   "source": [
    "(defn multiply'\n",
    "  \"Still a silly way to define multiplication but at least this looks like a canonical Clojure function definition\"\n",
    "  [x y]\n",
    "  (reduce + (repeat x y)))\n",
    "\n",
    "(multiply' 13 14)"
   ]
  },
  {
   "cell_type": "markdown",
   "metadata": {},
   "source": [
    "* [defn](https://github.com/clojure/clojure/blob/clojure-1.9.0/src/clj/clojure/core.clj#L283) is actually a short hand for `(def name (fn ...))`\n",
    "* It doesn't evaluate the body but instead rewrites it\n",
    "* The notebook isn't playing well with single quote to prevent evaluation so you'll have to trust me this is the output\n",
    "\n",
    "\n",
    "`(macroexpand '(defn multiply' \"The docs\" [x y] (reduce + (repeat x y))))`"
   ]
  },
  {
   "cell_type": "markdown",
   "metadata": {},
   "source": [
    "`=> (def multiply' (clojure.core/fn ([x y] (reduce + (repeat x y)))))`"
   ]
  },
  {
   "cell_type": "markdown",
   "metadata": {},
   "source": [
    "* Clojure compiles runs on the JVM\n",
    "* [ClojureScripts](https://clojurescript.org/) compiles to JavaScript\n",
    "* but this talk only considers Clojure and the JVM"
   ]
  },
  {
   "cell_type": "code",
   "execution_count": 9,
   "metadata": {},
   "outputs": [
    {
     "data": {
      "text/plain": [
       "1.8.0_152-release"
      ]
     },
     "execution_count": 9,
     "metadata": {},
     "output_type": "execute_result"
    }
   ],
   "source": [
    ";; Calling the static `getProperty` method of the `System` Java class\n",
    "(System/getProperty \"java.version\")"
   ]
  },
  {
   "cell_type": "code",
   "execution_count": 8,
   "metadata": {},
   "outputs": [
    {
     "data": {
      "text/plain": [
       "true"
      ]
     },
     "execution_count": 8,
     "metadata": {},
     "output_type": "execute_result"
    }
   ],
   "source": [
    ";; Calling the `String` class `endsWith` method\n",
    "(.endsWith \"Clojure is awesome\" \"awesome\" )"
   ]
  },
  {
   "cell_type": "markdown",
   "metadata": {},
   "source": [
    "* The Java interop is usually hidden with libraries to provide more canonical Clojure code\n",
    "* however it's easy to call Java code in your own code\n",
    "* Scala is usually easy too but it often compiles to deterministic but non-obvious class names when looking at the source code\n",
    "* Hence it's a lot easier to use the Java Spark API rather than Scala.\n",
    "* But what is _Spark_?"
   ]
  }
 ],
 "metadata": {
  "kernelspec": {
   "display_name": "Clojure",
   "language": "clojure",
   "name": "clojure"
  },
  "language_info": {
   "codemirror_mode": "Clojure",
   "file_extension": ".clj",
   "mimetype": "text/x-clojure",
   "name": "Clojure",
   "nbconverter_exporter": "",
   "version": "1.9.0"
  },
  "toc": {
   "base_numbering": 1,
   "nav_menu": {},
   "number_sections": false,
   "sideBar": false,
   "skip_h1_title": false,
   "title_cell": "Table of Contents",
   "title_sidebar": "Contents",
   "toc_cell": false,
   "toc_position": {},
   "toc_section_display": false,
   "toc_window_display": false
  }
 },
 "nbformat": 4,
 "nbformat_minor": 2
}
