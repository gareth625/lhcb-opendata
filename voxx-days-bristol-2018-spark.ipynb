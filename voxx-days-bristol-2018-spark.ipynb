{
 "cells": [
  {
   "cell_type": "markdown",
   "metadata": {},
   "source": [
    "# Voxx Days Bristol 2018"
   ]
  },
  {
   "cell_type": "markdown",
   "metadata": {},
   "source": [
    "[<img src=\"https://upload.wikimedia.org/wikipedia/commons/thumb/f/f3/Apache_Spark_logo.svg/200px-Apache_Spark_logo.svg.png\" align=left>](https://apache.spark.org)"
   ]
  },
  {
   "cell_type": "markdown",
   "metadata": {},
   "source": [
    "* The following is a demonstration of a Spark analysis in Clojure\n",
    "* It's based on an [LHCb](http://lhcb-public.web.cern.ch/lhcb-public/) open data [project](https://github.com/lhcb/opendata-project)\n",
    "  * You can explore CERN's open data [here](http://opendata.cern.ch)\n",
    "* Inspired by the PySpark walk through [here](https://github.com/LucaCanali/Miscellaneous/blob/master/Spark_Notes/Spark_HEP_Examples/LHCb_OpenData_Spark.ipynb)\n",
    "* I did my PhD thesis on LHCb\n",
    "  * that was submitted 10 years ago so this has been fun to go through\n",
    "  * I'm not familiar with this particular channel nor dataset\n",
    "* I've created a project containing all my helper functions allowing this workbook to be very concise\n",
    "* Lets get them onto the classpath with some BeakerX notebook magic"
   ]
  },
  {
   "cell_type": "code",
   "execution_count": 1,
   "metadata": {
    "scrolled": true
   },
   "outputs": [
    {
     "data": {
      "application/vnd.jupyter.widget-view+json": {
       "model_id": "39486f32-34f0-41c3-bdc3-fb7a7f4020cc",
       "version_major": 2,
       "version_minor": 0
      },
      "method": "display_data"
     },
     "metadata": {},
     "output_type": "display_data"
    }
   ],
   "source": [
    "%classpath add jar target/uberjar/lhcb-opendata-0.1.0-SNAPSHOT-standalone.jar"
   ]
  },
  {
   "cell_type": "markdown",
   "metadata": {},
   "source": [
    "* The project does not come packaged with Spark and Hadoop\n",
    "* Using notebooks to manage dependencies is not a good idea\n",
    "* Get the helper function to set up Spark and Hadoop within the notebook's JVM"
   ]
  },
  {
   "cell_type": "code",
   "execution_count": 7,
   "metadata": {},
   "outputs": [
    {
     "data": {
      "text/plain": [
       "null"
      ]
     },
     "execution_count": 7,
     "metadata": {},
     "output_type": "execute_result"
    }
   ],
   "source": [
    "(require '[lhcb-opendata.load-spark-libraries :refer [load-spark-and-hadoop]])"
   ]
  },
  {
   "cell_type": "code",
   "execution_count": 8,
   "metadata": {},
   "outputs": [
    {
     "name": "stdout",
     "output_type": "stream",
     "text": [
      "ic (aether.clj:783)\n",
      "    cemerick.pomegranate.aether$resolve_dependencies_STAR_.doInvoke (aether.clj:707)\n",
      "    clojure.lang.RestFn.applyTo (RestFn.java:137)\n",
      "    clojure.core$apply.invokeStatic (core.clj:657)\n",
      "    clojure.core$apply.invoke (core.clj:652)\n",
      "    cemerick.pomegranate.aether$resolve_dependencies.invokeStatic (aether.clj:815)\n",
      "    cemerick.pomegranate.aether$resolve_dependencies.doInvoke (aether.clj:809)\n",
      "    clojure.lang.RestFn.applyTo (RestFn.java:137)\n",
      "    clojure.core$apply.invokeStatic (core.clj:657)\n",
      "    clojure.core$apply.invoke (core.clj:652)\n",
      "    cemerick.pomegranate$add_dependencies.invokeStatic (pomegranate.clj:83)\n",
      "    cemerick.pomegranate$add_dependencies.doInvoke (pomegranate.clj:57)\n",
      "    clojure.lang.RestFn.invoke (RestFn.java:457)\n",
      "    lhcb_opendata.load_spark_libraries$load_spark_and_hadoop.invokeStatic (load_spark_libraries.clj:16)\n",
      "    lhcb_opendata.load_spark_libraries$load_spark_and_hadoop.invoke (load_spark_libraries.clj:5)\n",
      "    beaker_clojure_shell_23ed25b7_0e86_486a_9308_0258791ea268$eval168.invokeStatic (:2)\n",
      "    beaker_clojure_shell_23ed25b7_0e86_486a_9308_0258791ea268$eval168.invoke (:2)\n",
      "    clojure.lang.Compiler.eval (Compiler.java:7062)\n",
      "    clojure.lang.Compiler.load (Compiler.java:7514)\n",
      "    clojure.lang.Compiler.load (Compiler.java:7461)\n",
      "    clojure.core$load_reader.invokeStatic (core.clj:4053)\n",
      "    clojure.core$load_string.invokeStatic (core.clj:4055)\n",
      "    clojure.core$load_string.invoke (core.clj:4055)\n",
      "    beaker_clojure_shell_23ed25b7_0e86_486a_9308_0258791ea268$run_str_23ed25b7_0e86_486a_9308_0258791ea268.invokeStatic (:16)\n",
      "    beaker_clojure_shell_23ed25b7_0e86_486a_9308_0258791ea268$run_str_23ed25b7_0e86_486a_9308_0258791ea268.invoke (:16)\n",
      "    clojure.lang.Var.invoke (Var.java:381)\n",
      "    com.twosigma.beakerx.clojure.evaluator.ClojureEvaluator.runCode (ClojureEvaluator.java:164)\n",
      "    com.twosigma.beakerx.clojure.evaluator.ClojureCodeRunner.call (ClojureCodeRunner.java:47)\n",
      "    com.twosigma.beakerx.clojure.evaluator.ClojureCodeRunner.call (ClojureCodeRunner.java:28)\n",
      "    java.util.concurrent.FutureTask.run (FutureTask.java:266)\n",
      "    java.util.concurrent.ThreadPoolExecutor.runWorker (ThreadPoolExecutor.java:1142)\n",
      "    java.util.concurrent.ThreadPoolExecutor$Worker.run (ThreadPoolExecutor.java:617)\n",
      "    java.lang.Thread.run (Thread.java:745)\n",
      "java.lang.NullPointerException: version resolver cannot be null\n",
      " at java.util.Objects.requireNonNull (Objects.java:228)\n",
      "    org.eclipse.aether.internal.impl.DefaultRepositorySystem.setVersionResolver (DefaultRepositorySystem.java:170)\n",
      "    org.eclipse.aether.internal.impl.DefaultRepositorySystem.initService (DefaultRepositorySystem.java:149)\n",
      "    org.eclipse.aether.impl.DefaultServiceLocator$Entry.newInstance (DefaultServiceLocator.java:169)\n",
      "    org.eclipse.aether.impl.DefaultServiceLocator$Entry.getInstances (DefaultServiceLocator.java:139)\n",
      "    org.eclipse.aether.impl.DefaultServiceLocator$Entry.getInstance (DefaultServiceLocator.java:125)\n",
      "    org.eclipse.aether.impl.DefaultServiceLocator.getService (DefaultServiceLocator.java:285)\n",
      "    cemerick.pomegranate.aether$repository_system.invokeStatic (aether.clj:117)\n",
      "    cemerick.pomegranate.aether$repository_system.invoke (aether.clj:112)\n",
      "    cemerick.pomegranate.aether$resolve_dependencies_STAR_.invokeStatic (aether.clj:783)\n",
      "    cemerick.pomegranate.aether$resolve_dependencies_STAR_.doInvoke (aether.clj:707)\n",
      "    clojure.lang.RestFn.applyTo (RestFn.java:137)\n",
      "    clojure.core$apply.invokeStatic (core.clj:657)\n",
      "    clojure.core$apply.invoke (core.clj:652)\n",
      "    cemerick.pomegranate.aether$resolve_dependencies.invokeStatic (aether.clj:815)\n",
      "    cemerick.pomegranate.aether$resolve_dependencies.doInvoke (aether.clj:809)\n",
      "    clojure.lang.RestFn.applyTo (RestFn.java:137)\n",
      "    clojure.core$apply.invokeStatic (core.clj:657)\n",
      "    clojure.core$apply.invoke (core.clj:652)\n",
      "    cemerick.pomegranate$add_dependencies.invokeStatic (pomegranate.clj:83)\n",
      "    cemerick.pomegranate$add_dependencies.doInvoke (pomegranate.clj:57)\n",
      "    clojure.lang.RestFn.invoke (RestFn.java:457)\n",
      "    lhcb_opendata.load_spark_libraries$load_spark_and_hadoop.invokeStatic (load_spark_libraries.clj:16)\n",
      "    lhcb_opendata.load_spark_libraries$load_spark_and_hadoop.invoke (load_spark_libraries.clj:5)\n",
      "    beaker_clojure_shell_23ed25b7_0e86_486a_9308_0258791ea268$eval168.invokeStatic (:2)\n",
      "    beaker_clojure_shell_23ed25b7_0e86_486a_9308_0258791ea268$eval168.invoke (:2)\n",
      "    clojure.lang.Compiler.eval (Compiler.java:7062)\n",
      "    clojure.lang.Compiler.load (Compiler.java:7514)\n",
      "    clojure.lang.Compiler.load (Compiler.java:7461)\n",
      "    clojure.core$load_reader.invokeStatic (core.clj:4053)\n",
      "    clojure.core$load_string.invokeStatic (core.clj:4055)\n",
      "    clojure.core$load_string.invoke (core.clj:4055)\n",
      "    beaker_clojure_shell_23ed25b7_0e86_486a_9308_0258791ea268$run_str_23ed25b7_0e86_486a_9308_0258791ea268.invokeStatic (:16)\n",
      "    beaker_clojure_shell_23ed25b7_0e86_486a_9308_0258791ea268$run_str_23ed25b7_0e86_486a_9308_0258791ea268.invoke (:16)\n",
      "    clojure.lang.Var.invoke (Var.java:381)\n",
      "    com.twosigma.beakerx.clojure.evaluator.ClojureEvaluator.runCode (ClojureEvaluator.java:164)\n",
      "    com.twosigma.beakerx.clojure.evaluator.ClojureCodeRunner.call (ClojureCodeRunner.java:47)\n",
      "    com.twosigma.beakerx.clojure.evaluator.ClojureCodeRunner.call (ClojureCodeRunner.java:28)\n",
      "    java.util.concurrent.FutureTask.run (FutureTask.java:266)\n",
      "    java.util.concurrent.ThreadPoolExecutor.runWorker (ThreadPoolExecutor.java:1142)\n",
      "    java.util.concurrent.ThreadPoolExecutor$Worker.run (ThreadPoolExecutor.java:617)\n",
      "    java.lang.Thread.run (Thread.java:745)\n",
      "java.lang.ClassCastException: Cannot cast org.apache.maven.repository.internal.DefaultVersionResolver to org.eclipse.aether.impl.VersionResolver\n",
      " at java.lang.Class.cast (Class.java:3369)\n",
      "    org.eclipse.aether.impl.DefaultServiceLocator$Entry.newInstance (DefaultServiceLocator.java:166)\n",
      "    org.eclipse.aether.impl.DefaultServiceLocator$Entry.getInstances (DefaultServiceLocator.java:139)\n",
      "    org.eclipse.aether.impl.DefaultServiceLocator$Entry.getInstance (DefaultServiceLocator.java:125)\n",
      "    org.eclipse.aether.impl.DefaultServiceLocator.getService (DefaultServiceLocator.java:285)\n",
      "    org.eclipse.aether.internal.impl.DefaultRepositorySystem.initService (DefaultRepositorySystem.java:149)\n",
      "    org.eclipse.aether.impl.DefaultServiceLocator$Entry.newInstance (DefaultServiceLocator.java:169)\n",
      "    org.eclipse.aether.impl.DefaultServiceLocator$Entry.getInstances (DefaultServiceLocator.java:139)\n",
      "    org.eclipse.aether.impl.DefaultServiceLocator$Entry.getInstance (DefaultServiceLocator.java:125)\n",
      "    org.eclipse.aether.impl.DefaultServiceLocator.getService (DefaultServiceLocator.java:285)\n",
      "    cemerick.pomegranate.aether$repository_system.invokeStatic (aether.clj:117)\n",
      "    cemerick.pomegranate.aether$repository_system.invoke (aether.clj:112)\n",
      "    cemerick.pomegranate.aether$resolve_dependencies_STAR_.invokeStatic (aether.clj:783)\n",
      "    cemerick.pomegranate.aether$resolve_dependencies_STAR_.doInvoke (aether.clj:707)\n",
      "    clojure.lang.RestFn.applyTo (RestFn.java:137)\n",
      "    clojure.core$apply.invokeStatic (core.clj:657)\n",
      "    clojure.core$apply.invoke (core.clj:652)\n",
      "    cemerick.pomegranate.aether$resolve_dependencies.invokeStatic (aether.clj:815)\n",
      "    cemerick.pomegranate.aether$resolve_dependencies.doInvoke (aether.clj:809)\n",
      "    clojure.lang.RestFn.applyTo (RestFn.java:137)\n",
      "    clojure.core$apply.invokeStatic (core.clj:657)\n",
      "    clojure.core$apply.invoke (core.clj:652)\n",
      "    cemerick.pomegranate$add_dependencies.invokeStatic (pomegranate.clj:83)\n",
      "    cemerick.pomegranate$add_dependencies.doInvoke (pomegranate.clj:57)\n",
      "    clojure.lang.RestFn.invoke (RestFn.java:457)\n",
      "    lhcb_opendata.load_spark_libraries$load_spark_and_hadoop.invokeStatic (load_spark_libraries.clj:16)\n",
      "    lhcb_opendata.load_spark_libraries$load_spark_and_hadoop.invoke (load_spark_libraries.clj:5)\n",
      "    beaker_clojure_shell_23ed25b7_0e86_486a_9308_0258791ea268$eval174.invokeStatic (:1)\n",
      "    beaker_clojure_shell_23ed25b7_0e86_486a_9308_0258791ea268$eval174.invoke (:1)\n",
      "    clojure.lang.Compiler.eval (Compiler.java:7062)\n",
      "    clojure.lang.Compiler.load (Compiler.java:7514)\n",
      "    clojure.lang.Compiler.load (Compiler.java:7461)\n",
      "    clojure.core$load_reader.inv"
     ]
    },
    {
     "ename": "java.lang.NullPointerException",
     "evalue": "java.lang.NullPointerException",
     "output_type": "error",
     "traceback": [
      "\u001b[1;31mjava.lang.NullPointerException\u001b[0;0m",
      "\u001b[1;31m\tat clojure.lang.Reflector.invokeInstanceMethod(Reflector.java:26)\u001b[0;0m",
      "\u001b[1;31m\tat cemerick.pomegranate.aether$repository_session.invokeStatic(aether.clj:143)\u001b[0;0m",
      "\u001b[1;31m\tat cemerick.pomegranate.aether$repository_session.invoke(aether.clj:139)\u001b[0;0m",
      "\u001b[1;31m\tat cemerick.pomegranate.aether$resolve_dependencies_STAR_.invokeStatic(aether.clj:786)\u001b[0;0m",
      "\u001b[1;31m\tat cemerick.pomegranate.aether$resolve_dependencies_STAR_.doInvoke(aether.clj:707)\u001b[0;0m",
      "\u001b[1;31m\tat clojure.lang.RestFn.applyTo(RestFn.java:137)\u001b[0;0m",
      "\u001b[1;31m\tat clojure.core$apply.invokeStatic(core.clj:657)\u001b[0;0m",
      "\u001b[1;31m\tat clojure.core$apply.invoke(core.clj:652)\u001b[0;0m",
      "\u001b[1;31m\tat cemerick.pomegranate.aether$resolve_dependencies.invokeStatic(aether.clj:815)\u001b[0;0m",
      "\u001b[1;31m\tat cemerick.pomegranate.aether$resolve_dependencies.doInvoke(aether.clj:809)\u001b[0;0m",
      "\u001b[1;31m\tat clojure.lang.RestFn.applyTo(RestFn.java:137)\u001b[0;0m",
      "\u001b[1;31m\tat clojure.core$apply.invokeStatic(core.clj:657)\u001b[0;0m",
      "\u001b[1;31m\tat clojure.core$apply.invoke(core.clj:652)\u001b[0;0m",
      "\u001b[1;31m\tat cemerick.pomegranate$add_dependencies.invokeStatic(pomegranate.clj:83)\u001b[0;0m",
      "\u001b[1;31m\tat cemerick.pomegranate$add_dependencies.doInvoke(pomegranate.clj:57)\u001b[0;0m",
      "\u001b[1;31m\tat clojure.lang.RestFn.invoke(RestFn.java:457)\u001b[0;0m",
      "\u001b[1;31m\tat lhcb_opendata.load_spark_libraries$load_spark_and_hadoop.invokeStatic(load_spark_libraries.clj:16)\u001b[0;0m",
      "\u001b[1;31m\tat lhcb_opendata.load_spark_libraries$load_spark_and_hadoop.invoke(load_spark_libraries.clj:5)\u001b[0;0m",
      "\u001b[1;31m\tat beaker_clojure_shell_23ed25b7_0e86_486a_9308_0258791ea268$eval174.invokeStatic(Unknown Source)\u001b[0;0m",
      "\u001b[1;31m\tat beaker_clojure_shell_23ed25b7_0e86_486a_9308_0258791ea268$eval174.invoke(Unknown Source)\u001b[0;0m",
      "\u001b[1;31m\tat clojure.lang.Compiler.eval(Compiler.java:7062)\u001b[0;0m",
      "\u001b[1;31m\tat clojure.lang.Compiler.load(Compiler.java:7514)\u001b[0;0m",
      "\u001b[1;31m\tat clojure.lang.Compiler.load(Compiler.java:7461)\u001b[0;0m",
      "\u001b[1;31m\tat clojure.core$load_reader.invokeStatic(core.clj:4053)\u001b[0;0m",
      "\u001b[1;31m\tat clojure.core$load_string.invokeStatic(core.clj:4055)\u001b[0;0m",
      "\u001b[1;31m\tat clojure.core$load_string.invoke(core.clj:4055)\u001b[0;0m",
      "\u001b[1;31m\tat beaker_clojure_shell_23ed25b7_0e86_486a_9308_0258791ea268$run_str_23ed25b7_0e86_486a_9308_0258791ea268.invokeStatic(Unknown Source)\u001b[0;0m",
      "\u001b[1;31m\tat beaker_clojure_shell_23ed25b7_0e86_486a_9308_0258791ea268$run_str_23ed25b7_0e86_486a_9308_0258791ea268.invoke(Unknown Source)\u001b[0;0m",
      "\u001b[1;31m\tat clojure.lang.Var.invoke(Var.java:381)\u001b[0;0m",
      "\u001b[0;31m\tat com.twosigma.beakerx.clojure.evaluator.ClojureEvaluator.runCode(ClojureEvaluator.java:164)\u001b[0;0m",
      "\u001b[0;31m\tat com.twosigma.beakerx.clojure.evaluator.ClojureCodeRunner.call(ClojureCodeRunner.java:47)\u001b[0;0m",
      "\u001b[0;31m\tat com.twosigma.beakerx.clojure.evaluator.ClojureCodeRunner.call(ClojureCodeRunner.java:28)\u001b[0;0m",
      "\u001b[0;31m\tat java.util.concurrent.FutureTask.run(FutureTask.java:266)\u001b[0;0m",
      "\u001b[0;31m\tat java.util.concurrent.ThreadPoolExecutor.runWorker(ThreadPoolExecutor.java:1142)\u001b[0;0m",
      "\u001b[0;31m\tat java.util.concurrent.ThreadPoolExecutor$Worker.run(ThreadPoolExecutor.java:617)\u001b[0;0m",
      "\u001b[0;31m\tat java.lang.Thread.run(Thread.java:745)\u001b[0;0m"
     ]
    }
   ],
   "source": [
    "(load-spark-and-hadoop)"
   ]
  },
  {
   "cell_type": "code",
   "execution_count": 10,
   "metadata": {},
   "outputs": [
    {
     "name": "stdout",
     "output_type": "stream",
     "text": [
      "okeStatic (core.clj:4053)\n",
      "    clojure.core$load_string.invokeStatic (core.clj:4055)\n",
      "    clojure.core$load_string.invoke (core.clj:4055)\n",
      "    beaker_clojure_shell_23ed25b7_0e86_486a_9308_0258791ea268$run_str_23ed25b7_0e86_486a_9308_0258791ea268.invokeStatic (:16)\n",
      "    beaker_clojure_shell_23ed25b7_0e86_486a_9308_0258791ea268$run_str_23ed25b7_0e86_486a_9308_0258791ea268.invoke (:16)\n",
      "    clojure.lang.Var.invoke (Var.java:381)\n",
      "    com.twosigma.beakerx.clojure.evaluator.ClojureEvaluator.runCode (ClojureEvaluator.java:164)\n",
      "    com.twosigma.beakerx.clojure.evaluator.ClojureCodeRunner.call (ClojureCodeRunner.java:47)\n",
      "    com.twosigma.beakerx.clojure.evaluator.ClojureCodeRunner.call (ClojureCodeRunner.java:28)\n",
      "    java.util.concurrent.FutureTask.run (FutureTask.java:266)\n",
      "    java.util.concurrent.ThreadPoolExecutor.runWorker (ThreadPoolExecutor.java:1142)\n",
      "    java.util.concurrent.ThreadPoolExecutor$Worker.run (ThreadPoolExecutor.java:617)\n",
      "    java.lang.Thread.run (Thread.java:745)\n",
      "java.lang.NullPointerException: version resolver cannot be null\n",
      " at java.util.Objects.requireNonNull (Objects.java:228)\n",
      "    org.eclipse.aether.internal.impl.DefaultRepositorySystem.setVersionResolver (DefaultRepositorySystem.java:170)\n",
      "    org.eclipse.aether.internal.impl.DefaultRepositorySystem.initService (DefaultRepositorySystem.java:149)\n",
      "    org.eclipse.aether.impl.DefaultServiceLocator$Entry.newInstance (DefaultServiceLocator.java:169)\n",
      "    org.eclipse.aether.impl.DefaultServiceLocator$Entry.getInstances (DefaultServiceLocator.java:139)\n",
      "    org.eclipse.aether.impl.DefaultServiceLocator$Entry.getInstance (DefaultServiceLocator.java:125)\n",
      "    org.eclipse.aether.impl.DefaultServiceLocator.getService (DefaultServiceLocator.java:285)\n",
      "    cemerick.pomegranate.aether$repository_system.invokeStatic (aether.clj:117)\n",
      "    cemerick.pomegranate.aether$repository_system.invoke (aether.clj:112)\n",
      "    cemerick.pomegranate.aether$resolve_dependencies_STAR_.invokeStatic (aether.clj:783)\n",
      "    cemerick.pomegranate.aether$resolve_dependencies_STAR_.doInvoke (aether.clj:707)\n",
      "    clojure.lang.RestFn.applyTo (RestFn.java:137)\n",
      "    clojure.core$apply.invokeStatic (core.clj:657)\n",
      "    clojure.core$apply.invoke (core.clj:652)\n",
      "    cemerick.pomegranate.aether$resolve_dependencies.invokeStatic (aether.clj:815)\n",
      "    cemerick.pomegranate.aether$resolve_dependencies.doInvoke (aether.clj:809)\n",
      "    clojure.lang.RestFn.applyTo (RestFn.java:137)\n",
      "    clojure.core$apply.invokeStatic (core.clj:657)\n",
      "    clojure.core$apply.invoke (core.clj:652)\n",
      "    cemerick.pomegranate$add_dependencies.invokeStatic (pomegranate.clj:83)\n",
      "    cemerick.pomegranate$add_dependencies.doInvoke (pomegranate.clj:57)\n",
      "    clojure.lang.RestFn.invoke (RestFn.java:457)\n",
      "    lhcb_opendata.load_spark_libraries$load_spark_and_hadoop.invokeStatic (load_spark_libraries.clj:16)\n",
      "    lhcb_opendata.load_spark_libraries$load_spark_and_hadoop.invoke (load_spark_libraries.clj:5)\n",
      "    beaker_clojure_shell_23ed25b7_0e86_486a_9308_0258791ea268$eval174.invokeStatic (:1)\n",
      "    beaker_clojure_shell_23ed25b7_0e86_486a_9308_0258791ea268$eval174.invoke (:1)\n",
      "    clojure.lang.Compiler.eval (Compiler.java:7062)\n",
      "    clojure.lang.Compiler.load (Compiler.java:7514)\n",
      "    clojure.lang.Compiler.load (Compiler.java:7461)\n",
      "    clojure.core$load_reader.invokeStatic (core.clj:4053)\n",
      "    clojure.core$load_string.invokeStatic (core.clj:4055)\n",
      "    clojure.core$load_string.invoke (core.clj:4055)\n",
      "    beaker_clojure_shell_23ed25b7_0e86_486a_9308_0258791ea268$run_str_23ed25b7_0e86_486a_9308_0258791ea268.invokeStatic (:16)\n",
      "    beaker_clojure_shell_23ed25b7_0e86_486a_9308_0258791ea268$run_str_23ed25b7_0e86_486a_9308_0258791ea268.invoke (:16)\n",
      "    clojure.lang.Var.invoke (Var.java:381)\n",
      "    com.twosigma.beakerx.clojure.evaluator.ClojureEvaluator.runCode (ClojureEvaluator.java:164)\n",
      "    com.twosigma.beakerx.clojure.evaluator.ClojureCodeRunner.call (ClojureCodeRunner.java:47)\n",
      "    com.twosigma.beakerx.clojure.evaluator.ClojureCodeRunner.call (ClojureCodeRunner.java:28)\n",
      "    java.util.concurrent.FutureTask.run (FutureTask.java:266)\n",
      "    java.util.concurrent.ThreadPoolExecutor.runWorker (ThreadPoolExecutor.java:1142)\n",
      "    java.util.concurrent.ThreadPoolExecutor$Worker.run (ThreadPoolExecutor.java:617)\n",
      "    java.lang.Thread.run (Thread.java:745)\n",
      "java.lang.ClassCastException: Cannot cast org.apache.maven.repository.internal.DefaultVersionResolver to org.eclipse.aether.impl.VersionResolver\n",
      " at java.lang.Class.cast (Class.java:3369)\n",
      "    org.eclipse.aether.impl.DefaultServiceLocator$Entry.newInstance (DefaultServiceLocator.java:166)\n",
      "    org.eclipse.aether.impl.DefaultServiceLocator$Entry.getInstances (DefaultServiceLocator.java:139)\n",
      "    org.eclipse.aether.impl.DefaultServiceLocator$Entry.getInstance (DefaultServiceLocator.java:125)\n",
      "    org.eclipse.aether.impl.DefaultServiceLocator.getService (DefaultServiceLocator.java:285)\n",
      "    org.eclipse.aether.internal.impl.DefaultRepositorySystem.initService (DefaultRepositorySystem.java:149)\n",
      "    org.eclipse.aether.impl.DefaultServiceLocator$Entry.newInstance (DefaultServiceLocator.java:169)\n",
      "    org.eclipse.aether.impl.DefaultServiceLocator$Entry.getInstances (DefaultServiceLocator.java:139)\n",
      "    org.eclipse.aether.impl.DefaultServiceLocator$Entry.getInstance (DefaultServiceLocator.java:125)\n",
      "    org.eclipse.aether.impl.DefaultServiceLocator.getService (DefaultServiceLocator.java:285)\n",
      "    cemerick.pomegranate.aether$repository_system.invokeStatic (aether.clj:117)\n",
      "    cemerick.pomegranate.aether$repository_system.invoke (aether.clj:112)\n",
      "    cemerick.pomegranate.aether$resolve_dependencies_STAR_.invokeStatic (aether.clj:783)\n",
      "    cemerick.pomegranate.aether$resolve_dependencies_STAR_.doInvoke (aether.clj:707)\n",
      "    clojure.lang.RestFn.applyTo (RestFn.java:137)\n",
      "    clojure.core$apply.invokeStatic (core.clj:657)\n",
      "    clojure.core$apply.invoke (core.clj:652)\n",
      "    cemerick.pomegranate.aether$resolve_dependencies.invokeStatic (aether.clj:815)\n",
      "    cemerick.pomegranate.aether$resolve_dependencies.doInvoke (aether.clj:809)\n",
      "    clojure.lang.RestFn.applyTo (RestFn.java:137)\n",
      "    clojure.core$apply.invokeStatic (core.clj:657)\n",
      "    clojure.core$apply.invoke (core.clj:652)\n",
      "    cemerick.pomegranate$add_dependencies.invokeStatic (pomegranate.clj:83)\n",
      "    cemerick.pomegranate$add_dependencies.doInvoke (pomegranate.clj:57)\n",
      "    clojure.lang.RestFn.invoke (RestFn.java:457)\n",
      "    beaker_clojure_shell_23ed25b7_0e86_486a_9308_0258791ea268$eval179.invokeStatic (:4)\n",
      "    beaker_clojure_shell_23ed25b7_0e86_486a_9308_0258791ea268$eval179.invoke (:4)\n",
      "    clojure.lang.Compiler.eval (Compiler.java:7062)\n",
      "    clojure.lang.Compiler.load (Compiler.java:7514)\n",
      "    clojure.lang.Compiler.load (Compiler.java:7461)\n",
      "    clojure.core$load_reader.invokeStatic (core.clj:4053)\n",
      "    clojure.core$load_string.invokeStatic (core.clj:4055)\n",
      "    clojure.core$load_string.invoke (core.clj:4055)\n",
      "    beaker_clojure_shell_23ed25b7_0e86_486a_9308_0258791ea268$run_str_23ed25b7_0e86_486a_9308_0258791ea268.invokeStatic (:16)\n",
      "    beaker_clojure_shell_23ed25b7_0e86_486a_9308_0258791ea268$run_str_23ed25b7_0e86_486a_9308_0258791ea268.invoke (:16)\n",
      "    clojure.lang.Var.invoke (Var.java:381)\n",
      "    com.twosigma.beakerx.clojure.evaluator.ClojureEvaluator.runCode (ClojureEvaluator.java:164)\n",
      "    com.twosigma.beakerx.clojure.evaluator.ClojureCodeRunner.call (ClojureCodeRunner.java:47)\n",
      "    com.twosigma.beakerx.clojure.evaluator.ClojureCodeRunner.call (ClojureCodeRunner.java:28)\n",
      "    java.util.concurrent.FutureTask.run (FutureTask.java:266)\n",
      "    java.util.concurrent.ThreadPoolExecutor.runWorker (ThreadPoolExecutor.java:1142)\n",
      "    java.util.concurrent.ThreadPoolExecutor$Worker.run (ThreadPoolExecutor.java:617)\n",
      "    java.lang.Thread.run (Thread.java:745)\n",
      "java.lang.NullPointerException: version resolver cannot be null\n",
      " at java.util.Objects.requireNonNull (Objects.java:228)\n",
      "    org.eclipse.aether.internal.impl.DefaultRepositorySystem.setVersionResolver (DefaultRepositorySystem.java:170)\n",
      "    org.eclipse.aether.internal.impl.DefaultRepositorySystem.initService (DefaultRepositorySystem.java:149)\n",
      "    org.eclipse.aether.impl.DefaultServiceLocator$Entry.newInstance (DefaultServiceLocator.java:169)\n",
      "    org.eclipse.aether.impl.DefaultServiceLocator$Entry.getInstances (DefaultServiceLoca"
     ]
    },
    {
     "ename": "java.lang.NullPointerException",
     "evalue": "java.lang.NullPointerException",
     "output_type": "error",
     "traceback": [
      "\u001b[1;31mjava.lang.NullPointerException\u001b[0;0m",
      "\u001b[1;31m\tat clojure.lang.Reflector.invokeInstanceMethod(Reflector.java:26)\u001b[0;0m",
      "\u001b[1;31m\tat cemerick.pomegranate.aether$repository_session.invokeStatic(aether.clj:143)\u001b[0;0m",
      "\u001b[1;31m\tat cemerick.pomegranate.aether$repository_session.invoke(aether.clj:139)\u001b[0;0m",
      "\u001b[1;31m\tat cemerick.pomegranate.aether$resolve_dependencies_STAR_.invokeStatic(aether.clj:786)\u001b[0;0m",
      "\u001b[1;31m\tat cemerick.pomegranate.aether$resolve_dependencies_STAR_.doInvoke(aether.clj:707)\u001b[0;0m",
      "\u001b[1;31m\tat clojure.lang.RestFn.applyTo(RestFn.java:137)\u001b[0;0m",
      "\u001b[1;31m\tat clojure.core$apply.invokeStatic(core.clj:657)\u001b[0;0m",
      "\u001b[1;31m\tat clojure.core$apply.invoke(core.clj:652)\u001b[0;0m",
      "\u001b[1;31m\tat cemerick.pomegranate.aether$resolve_dependencies.invokeStatic(aether.clj:815)\u001b[0;0m",
      "\u001b[1;31m\tat cemerick.pomegranate.aether$resolve_dependencies.doInvoke(aether.clj:809)\u001b[0;0m",
      "\u001b[1;31m\tat clojure.lang.RestFn.applyTo(RestFn.java:137)\u001b[0;0m",
      "\u001b[1;31m\tat clojure.core$apply.invokeStatic(core.clj:657)\u001b[0;0m",
      "\u001b[1;31m\tat clojure.core$apply.invoke(core.clj:652)\u001b[0;0m",
      "\u001b[1;31m\tat cemerick.pomegranate$add_dependencies.invokeStatic(pomegranate.clj:83)\u001b[0;0m",
      "\u001b[1;31m\tat cemerick.pomegranate$add_dependencies.doInvoke(pomegranate.clj:57)\u001b[0;0m",
      "\u001b[1;31m\tat clojure.lang.RestFn.invoke(RestFn.java:457)\u001b[0;0m",
      "\u001b[1;31m\tat beaker_clojure_shell_23ed25b7_0e86_486a_9308_0258791ea268$eval179.invokeStatic(Unknown Source)\u001b[0;0m",
      "\u001b[1;31m\tat beaker_clojure_shell_23ed25b7_0e86_486a_9308_0258791ea268$eval179.invoke(Unknown Source)\u001b[0;0m",
      "\u001b[1;31m\tat clojure.lang.Compiler.eval(Compiler.java:7062)\u001b[0;0m",
      "\u001b[1;31m\tat clojure.lang.Compiler.load(Compiler.java:7514)\u001b[0;0m",
      "\u001b[1;31m\tat clojure.lang.Compiler.load(Compiler.java:7461)\u001b[0;0m",
      "\u001b[1;31m\tat clojure.core$load_reader.invokeStatic(core.clj:4053)\u001b[0;0m",
      "\u001b[1;31m\tat clojure.core$load_string.invokeStatic(core.clj:4055)\u001b[0;0m",
      "\u001b[1;31m\tat clojure.core$load_string.invoke(core.clj:4055)\u001b[0;0m",
      "\u001b[1;31m\tat beaker_clojure_shell_23ed25b7_0e86_486a_9308_0258791ea268$run_str_23ed25b7_0e86_486a_9308_0258791ea268.invokeStatic(Unknown Source)\u001b[0;0m",
      "\u001b[1;31m\tat beaker_clojure_shell_23ed25b7_0e86_486a_9308_0258791ea268$run_str_23ed25b7_0e86_486a_9308_0258791ea268.invoke(Unknown Source)\u001b[0;0m",
      "\u001b[1;31m\tat clojure.lang.Var.invoke(Var.java:381)\u001b[0;0m",
      "\u001b[0;31m\tat com.twosigma.beakerx.clojure.evaluator.ClojureEvaluator.runCode(ClojureEvaluator.java:164)\u001b[0;0m",
      "\u001b[0;31m\tat com.twosigma.beakerx.clojure.evaluator.ClojureCodeRunner.call(ClojureCodeRunner.java:47)\u001b[0;0m",
      "\u001b[0;31m\tat com.twosigma.beakerx.clojure.evaluator.ClojureCodeRunner.call(ClojureCodeRunner.java:28)\u001b[0;0m",
      "\u001b[0;31m\tat java.util.concurrent.FutureTask.run(FutureTask.java:266)\u001b[0;0m",
      "\u001b[0;31m\tat java.util.concurrent.ThreadPoolExecutor.runWorker(ThreadPoolExecutor.java:1142)\u001b[0;0m",
      "\u001b[0;31m\tat java.util.concurrent.ThreadPoolExecutor$Worker.run(ThreadPoolExecutor.java:617)\u001b[0;0m",
      "\u001b[0;31m\tat java.lang.Thread.run(Thread.java:745)\u001b[0;0m"
     ]
    }
   ],
   "source": [
    "(require '[cemerick.pomegranate :as pg]\n",
    "         '[cemerick.pomegranate.aether :refer [maven-central]])\n",
    "            \n",
    "(pg/add-dependencies :coordinates '[[com.fasterxml.jackson.core/jackson-annotations \"2.6.7\"]\n",
    "                                      [com.fasterxml.jackson.core/jackson-core \"2.6.7\"]\n",
    "                                      [com.fasterxml.jackson.core/jackson-databind \"2.6.7\"]\n",
    "                                      [org.apache.spark/spark-core_2.11 \"2.3.1\"\n",
    "                                       :exclusions [com.fasterxml.jackson.core/jackson-annotations\n",
    "                                                    com.fasterxml.jackson.core/jackson-core\n",
    "                                                    com.fasterxml.jackson.core/jackson-databind\n",
    "                                                    commons-codec\n",
    "                                                    org.apache.httpcomponents/httpclient\n",
    "                                                    org.apache.httpcomponents/httpcore\n",
    "                                                    joda-time]]\n",
    "                                      [org.apache.spark/spark-sql_2.11 \"2.3.1\"\n",
    "                                       :exclusions [com.fasterxml.jackson.core/jackson-annotations\n",
    "                                                    com.fasterxml.jackson.core/jackson-core\n",
    "                                                    com.fasterxml.jackson.core/jackson-databind\n",
    "                                                    commons-codec\n",
    "                                                    org.apache.httpcomponents/httpclient\n",
    "                                                    org.apache.httpcomponents/httpcore\n",
    "                                                    joda-time]]\n",
    "                                      [org.apache.spark/spark-hive_2.11 \"2.3.1\"\n",
    "                                       :exclusions [com.fasterxml.jackson.core/jackson-annotations\n",
    "                                                    com.fasterxml.jackson.core/jackson-core\n",
    "                                                    com.fasterxml.jackson.core/jackson-databind\n",
    "                                                    commons-codec\n",
    "                                                    org.apache.httpcomponents/httpclient\n",
    "                                                    org.apache.httpcomponents/httpcore\n",
    "                                                    joda-time]]\n",
    "                                      [org.apache.hadoop/hadoop-client \"2.8.4\"\n",
    "                                       :exclusions [com.fasterxml.jackson.core/jackson-annotations\n",
    "                                                    com.fasterxml.jackson.core/jackson-core\n",
    "                                                    com.fasterxml.jackson.core/jackson-databind\n",
    "                                                    commons-codec\n",
    "                                                    org.apache.httpcomponents/httpclient\n",
    "                                                    org.apache.httpcomponents/httpcore\n",
    "                                                    joda-time]]\n",
    "                                      [org.apache.hadoop/hadoop-common \"2.8.4\"\n",
    "                                       :exclusions [com.fasterxml.jackson.core/jackson-annotations\n",
    "                                                    com.fasterxml.jackson.core/jackson-core\n",
    "                                                    com.fasterxml.jackson.core/jackson-databind\n",
    "                                                    commons-codec\n",
    "                                                    org.apache.httpcomponents/httpclient\n",
    "                                                    org.apache.httpcomponents/httpcore\n",
    "                                                    joda-time]]\n",
    "                                      [org.apache.hadoop/hadoop-aws \"2.8.4\"\n",
    "                                       :exclusions [javax.servlet/servlet-api\n",
    "                                                    javax.servlet.jsp/jsp-api\n",
    "                                                    org.mortbay.jetty/servlet-api]]]\n",
    "                       :repositories (merge maven-central\n",
    "                                            {\"clojars\" \"https://clojars.org/repo\"}))"
   ]
  },
  {
   "cell_type": "code",
   "execution_count": 2,
   "metadata": {},
   "outputs": [
    {
     "ename": "java.lang.ExceptionInInitializerError",
     "evalue": "java.lang.ExceptionInInitializerError",
     "output_type": "error",
     "traceback": [
      "\u001b[1;31mjava.lang.ExceptionInInitializerError\u001b[0;0m",
      "\u001b[1;31m\tat java.lang.Class.forName0(Native Method)\u001b[0;0m",
      "\u001b[1;31m\tat java.lang.Class.forName(Class.java:348)\u001b[0;0m",
      "\u001b[1;31m\tat clojure.lang.RT.classForName(RT.java:2204)\u001b[0;0m",
      "\u001b[1;31m\tat clojure.lang.RT.classForName(RT.java:2213)\u001b[0;0m",
      "\u001b[1;31m\tat clojure.lang.RT.loadClassForName(RT.java:2232)\u001b[0;0m",
      "\u001b[1;31m\tat clojure.lang.RT.load(RT.java:450)\u001b[0;0m",
      "\u001b[1;31m\tat clojure.lang.RT.load(RT.java:426)\u001b[0;0m",
      "\u001b[1;31m\tat clojure.core$load$fn__6548.invoke(core.clj:6046)\u001b[0;0m",
      "\u001b[1;31m\tat clojure.core$load.invokeStatic(core.clj:6045)\u001b[0;0m",
      "\u001b[1;31m\tat clojure.core$load.doInvoke(core.clj:6029)\u001b[0;0m",
      "\u001b[1;31m\tat clojure.lang.RestFn.invoke(RestFn.java:408)\u001b[0;0m",
      "\u001b[1;31m\tat clojure.core$load_one.invokeStatic(core.clj:5848)\u001b[0;0m",
      "\u001b[1;31m\tat clojure.core$load_all$fn__6485$fn__6488.invoke(core.clj:5864)\u001b[0;0m",
      "\u001b[1;31m\tat clojure.core$load_all$fn__6485.invoke(core.clj:5864)\u001b[0;0m",
      "\u001b[1;31m\tat clojure.lang.AFn.call(AFn.java:18)\u001b[0;0m",
      "\u001b[1;31m\tat clojure.lang.LockingTransaction.run(LockingTransaction.java:273)\u001b[0;0m",
      "\u001b[1;31m\tat clojure.lang.LockingTransaction.runInTransaction(LockingTransaction.java:229)\u001b[0;0m",
      "\u001b[1;31m\tat clojure.core$load_all.invokeStatic(core.clj:5862)\u001b[0;0m",
      "\u001b[1;31m\tat clojure.core$load_all.invoke(core.clj:5856)\u001b[0;0m",
      "\u001b[1;31m\tat clojure.core$load_lib$fn__6493.invoke(core.clj:5888)\u001b[0;0m",
      "\u001b[1;31m\tat clojure.core$load_lib.invokeStatic(core.clj:5887)\u001b[0;0m",
      "\u001b[1;31m\tat clojure.core$load_lib.doInvoke(core.clj:5868)\u001b[0;0m",
      "\u001b[1;31m\tat clojure.lang.RestFn.applyTo(RestFn.java:142)\u001b[0;0m",
      "\u001b[1;31m\tat clojure.core$apply.invokeStatic(core.clj:659)\u001b[0;0m",
      "\u001b[1;31m\tat clojure.core$load_libs.invokeStatic(core.clj:5929)\u001b[0;0m",
      "\u001b[1;31m\tat clojure.core$load_libs.doInvoke(core.clj:5909)\u001b[0;0m",
      "\u001b[1;31m\tat clojure.lang.RestFn.applyTo(RestFn.java:137)\u001b[0;0m",
      "\u001b[1;31m\tat clojure.core$apply.invokeStatic(core.clj:659)\u001b[0;0m",
      "\u001b[1;31m\tat clojure.core$require.invokeStatic(core.clj:5947)\u001b[0;0m",
      "\u001b[1;31m\tat clojure.core$require.doInvoke(core.clj:5947)\u001b[0;0m",
      "\u001b[1;31m\tat clojure.lang.RestFn.invoke(RestFn.java:551)\u001b[0;0m",
      "\u001b[1;31m\tat beaker_clojure_shell_23ed25b7_0e86_486a_9308_0258791ea268$eval158.invokeStatic(Unknown Source)\u001b[0;0m",
      "\u001b[1;31m\tat beaker_clojure_shell_23ed25b7_0e86_486a_9308_0258791ea268$eval158.invoke(Unknown Source)\u001b[0;0m",
      "\u001b[1;31m\tat clojure.lang.Compiler.eval(Compiler.java:7062)\u001b[0;0m",
      "\u001b[1;31m\tat clojure.lang.Compiler.load(Compiler.java:7514)\u001b[0;0m",
      "\u001b[1;31m\tat clojure.lang.Compiler.load(Compiler.java:7461)\u001b[0;0m",
      "\u001b[1;31m\tat clojure.core$load_reader.invokeStatic(core.clj:4053)\u001b[0;0m",
      "\u001b[1;31m\tat clojure.core$load_string.invokeStatic(core.clj:4055)\u001b[0;0m",
      "\u001b[1;31m\tat clojure.core$load_string.invoke(core.clj:4055)\u001b[0;0m",
      "\u001b[1;31m\tat beaker_clojure_shell_23ed25b7_0e86_486a_9308_0258791ea268$run_str_23ed25b7_0e86_486a_9308_0258791ea268.invokeStatic(Unknown Source)\u001b[0;0m",
      "\u001b[1;31m\tat beaker_clojure_shell_23ed25b7_0e86_486a_9308_0258791ea268$run_str_23ed25b7_0e86_486a_9308_0258791ea268.invoke(Unknown Source)\u001b[0;0m",
      "\u001b[1;31m\tat clojure.lang.Var.invoke(Var.java:381)\u001b[0;0m",
      "\u001b[0;31m\tat com.twosigma.beakerx.clojure.evaluator.ClojureEvaluator.runCode(ClojureEvaluator.java:164)\u001b[0;0m",
      "\u001b[0;31m\tat com.twosigma.beakerx.clojure.evaluator.ClojureCodeRunner.call(ClojureCodeRunner.java:47)\u001b[0;0m",
      "\u001b[0;31m\tat com.twosigma.beakerx.clojure.evaluator.ClojureCodeRunner.call(ClojureCodeRunner.java:28)\u001b[0;0m",
      "\u001b[0;31m\tat java.util.concurrent.FutureTask.run(FutureTask.java:266)\u001b[0;0m",
      "\u001b[0;31m\tat java.util.concurrent.ThreadPoolExecutor.runWorker(ThreadPoolExecutor.java:1142)\u001b[0;0m",
      "\u001b[0;31m\tat java.util.concurrent.ThreadPoolExecutor$Worker.run(ThreadPoolExecutor.java:617)\u001b[0;0m",
      "\u001b[0;31m\tat java.lang.Thread.run(Thread.java:745)\u001b[0;0m",
      "\u001b[0;31mCaused by: java.lang.ClassNotFoundException: org.apache.spark.sql.Dataset\u001b[0;0m",
      "\u001b[0;31m\tat java.net.URLClassLoader.findClass(URLClassLoader.java:381)\u001b[0;0m",
      "\u001b[0;31m\tat clojure.lang.DynamicClassLoader.findClass(DynamicClassLoader.java:69)\u001b[0;0m",
      "\u001b[0;31m\tat java.lang.ClassLoader.loadClass(ClassLoader.java:424)\u001b[0;0m",
      "\u001b[0;31m\tat clojure.lang.DynamicClassLoader.loadClass(DynamicClassLoader.java:77)\u001b[0;0m",
      "\u001b[0;31m\tat java.lang.ClassLoader.loadClass(ClassLoader.java:357)\u001b[0;0m",
      "\u001b[0;31m\tat java.lang.Class.forName0(Native Method)\u001b[0;0m",
      "\u001b[0;31m\tat java.lang.Class.forName(Class.java:348)\u001b[0;0m",
      "\u001b[0;31m\tat clojure.lang.RT.classForName(RT.java:2204)\u001b[0;0m",
      "\u001b[0;31m\tat clojure.lang.RT.classForNameNonLoading(RT.java:2217)\u001b[0;0m",
      "\u001b[0;31m\tat ignition.sql.dataframe_stat_functions$loading__6434__auto____435.invoke(dataframe_stat_functions.clj:1)\u001b[0;0m",
      "\u001b[0;31m\tat ignition.sql.dataframe_stat_functions__init.load(Unknown Source)\u001b[0;0m",
      "\u001b[0;31m\tat ignition.sql.dataframe_stat_functions__init.<clinit>(Unknown Source)\u001b[0;0m",
      "\u001b[0;31m\t... 49 more\u001b[0;0m"
     ]
    }
   ],
   "source": [
    "(require '[clojure.string :as str]\n",
    "         '[ignition.sql\n",
    "            [dataframe-stat-functions :as ds-stats]\n",
    "            [dataset :as ds]\n",
    "            [spark-session :as session]\n",
    "            [row :as row]]\n",
    "         '[lhcb-opendata]\n",
    "         '[sparkling\n",
    "           [conf :as conf]\n",
    "           [core :as spark]\n",
    "           [serialization]]\n",
    "        '[sparkling.sql.types :as types]\n",
    "        :reload-all)\n",
    "(import [org.apache.spark.sql functions]) ;; Another bit of Java interop `import`"
   ]
  },
  {
   "cell_type": "markdown",
   "metadata": {},
   "source": [
    "* Now the classpath is set up lets load the libraries we wish to use\n",
    "* [Sparkling](http://gorillalabs.github.io/sparkling/) is a Clojure library enabling Spark to be called through Clojure functions\n",
    "* `ignition` is based on a Metail library exposing more of the Spark API not covered in Sparkling"
   ]
  },
  {
   "cell_type": "markdown",
   "metadata": {},
   "source": [
    "* Lets create the Spark session\n",
    "* To avoid the hassle of installing and starting a Spark server use\n",
    "* Spark has standalone, yarn, mesos and kubernetes modes\n",
    "* Here's we're just running local mode in the JVM: `:master \"local\"`\n",
    "* https://spark.apache.org/docs/latest/submitting-applications.html"
   ]
  },
  {
   "cell_type": "code",
   "execution_count": null,
   "metadata": {
    "scrolled": true
   },
   "outputs": [],
   "source": [
    "(def spark-session\n",
    "  (session/spark-session {:app-name \"lhcb-opendata\"\n",
    "                          :master   \"local[2]\"\n",
    "                          :config   {\"spark.jars\"                   \"target/uberjar/lhcb-opendata-0.1.0-SNAPSHOT-standalone.jar\"\n",
    "                                     \"spark.sql.shuffle.partitions\" \"2\"\n",
    "                                     \"spark.default.parallelism\"    \"2\"\n",
    "                                     \"spark.task.maxFailures\"       \"1\"}}))"
   ]
  },
  {
   "cell_type": "markdown",
   "metadata": {},
   "source": [
    "* You can also stop the session which is useful if you need to restart it"
   ]
  },
  {
   "cell_type": "code",
   "execution_count": null,
   "metadata": {
    "scrolled": true
   },
   "outputs": [],
   "source": [
    ";; (session/close spark-session)"
   ]
  },
  {
   "cell_type": "markdown",
   "metadata": {},
   "source": [
    "###  The Data\n",
    "\n",
    "* LHCb is an experiment on the Large Hadron Collider (LHC)\n",
    "* The LHC is a 27km circular accelerator colliding beams of proton (hydrogen nuclei)\n",
    "* The collisions make a mess (technical term)\n",
    "  * The previous collider in the tunnel LEP did not, a high precision experiment\n",
    "* LHCb is specifically looking at B mesons produced in these collisions and measuring matter/anti-matter asymmetries\n",
    "  * How much your mirror image doesn't behave as you do\n",
    "* The following will attempt to reconstruct the B mesons decaying to three kaons\n",
    "\n",
    "$$ B^{\\pm} \\rightarrow K^+ K^- K^{\\pm}$$\n",
    "\n",
    "* We've been given a dataset containing a simulation of $ B^{\\pm} \\rightarrow K^+ K^- K^{\\pm}$ signal decays plus some background\n",
    "  * [PhaseSpaceSimulation.root](http://opendata.cern.ch/eos/opendata/lhcb/AntimatterMatters2017/data/PhaseSpaceSimulation.root)\n",
    "* Can we find the B mesons that decayed to three kaon decay?"
   ]
  },
  {
   "cell_type": "code",
   "execution_count": null,
   "metadata": {},
   "outputs": [],
   "source": [
    "(def sim (ds/read-root spark-session \"data/PhaseSpaceSimulation.root\"))\n",
    "\n",
    "sim"
   ]
  },
  {
   "cell_type": "code",
   "execution_count": null,
   "metadata": {
    "scrolled": true
   },
   "outputs": [],
   "source": [
    "(ds/print-schema sim)"
   ]
  },
  {
   "cell_type": "code",
   "execution_count": null,
   "metadata": {},
   "outputs": [],
   "source": [
    "(-> (ds/summary sim \"count\" \"mean\" \"stddev\" \"min\" \"max\")\n",
    "    (ds/show 5 0 true))"
   ]
  },
  {
   "cell_type": "markdown",
   "metadata": {},
   "source": [
    "* There are a lot of columns with some interesting properties but for this simple analysis I'm going to restrict the columns\n",
    "* This is fairly standard practice in big data\n",
    "* Often we have data formats that arrange the data in a columnar format and it minimises data transfer\n",
    "  * I don't know if this is true for ROOT files but it will reduce the in-memory dataset representation\n",
    "  * The simulation is only 2MB in total though"
   ]
  },
  {
   "cell_type": "code",
   "execution_count": null,
   "metadata": {
    "scrolled": true
   },
   "outputs": [],
   "source": [
    "(def sim\n",
    "  (let [sim  (ds/read-root spark-session \"data/PhaseSpaceSimulation.root\")\n",
    "        cols (map (fn [col-name] (ds/col sim col-name)) [\"H1_PX\" \"H1_PY\" \"H1_PZ\" \"H1_ProbK\"\n",
    "                                                         \"H2_PX\" \"H2_PY\" \"H2_PZ\" \"H2_ProbK\"\n",
    "                                                         \"H3_PX\" \"H3_PY\" \"H3_PZ\" \"H3_ProbK\"])]\n",
    "      (ds/select sim cols)))"
   ]
  },
  {
   "cell_type": "code",
   "execution_count": null,
   "metadata": {
    "scrolled": true
   },
   "outputs": [],
   "source": [
    "(ds/print-schema sim)"
   ]
  },
  {
   "cell_type": "code",
   "execution_count": null,
   "metadata": {
    "scrolled": true
   },
   "outputs": [],
   "source": [
    "(ds/show sim 1 0 true)"
   ]
  },
  {
   "cell_type": "markdown",
   "metadata": {},
   "source": [
    "* The first thing we're asked to do is to plot a histogram of the first hadron's x-axis momentum component\n",
    "* BeakerX has support for plotting in the notebook\n",
    "* I created the helper function `lhcb-opendata/histogram-col`\n",
    "* I also looked at https://github.com/metasoarous/oz/ for a Clojure based Vega(lite) based solution\n",
    "  * works well in emacs, didn't in this notebook\n",
    "  * I suspect this is a PR away from rendering inline in the notebook but currently doesn't\n",
    "* and also https://github.com/vegas-viz/Vegas but that would have required Scala interop"
   ]
  },
  {
   "cell_type": "code",
   "execution_count": null,
   "metadata": {
    "scrolled": true
   },
   "outputs": [],
   "source": [
    "(histogram-col sim \"H1_PX\" \"First Kaon X-Axis Momentum Component\" \"H1_PX / MeV/c\" \"Count\")"
   ]
  },
  {
   "cell_type": "code",
   "execution_count": null,
   "metadata": {},
   "outputs": [],
   "source": [
    "(histogram-col sim \"H1_PY\" \"First Kaon Y-Axis Momentum Component\" \"H1_PY / MeV/c\" \"Count\")"
   ]
  },
  {
   "cell_type": "code",
   "execution_count": null,
   "metadata": {},
   "outputs": [],
   "source": [
    "(histogram-col sim \"H1_PZ\" \"First Kaon Z-Axis Momentum Component\" \"H1_PZ / MeV/c\" \"Count\")"
   ]
  },
  {
   "cell_type": "markdown",
   "metadata": {},
   "source": [
    "* The z-axis is along the beam line and LHCb is an asymmetric detector points clockwise (probably!) around the beam\n",
    "  * We can't measure a negative z-component, no detector elements\n",
    "* Now lets do a bit of physics\n",
    "* The LHCb opendata worksheet asks us to calculate the B meson mass\n",
    "* We need to start with the kaons and determine their energies\n",
    "  * A bit of special relativity is about to happen\n",
    "  * Also the speed of light in a vacuum is 1 just incase you are wondering\n",
    "* Lets start with a function to get the square of the magnitude of the momentum\n",
    "\n",
    "$$\\lvert\\bar{\\bf{p}}\\rvert = \\sqrt{p_x^2 + p_y^2 + p_z^2}$$"
   ]
  },
  {
   "cell_type": "code",
   "execution_count": null,
   "metadata": {},
   "outputs": [],
   "source": [
    "(-> (lhcb-opendata/with-momentum spark-session sim \"H1_\")\n",
    "    (histogram-col \"H1_P\" \"First Kaon Momentum\" \"Momentum / MeV/c\" \"Count\"))"
   ]
  },
  {
   "cell_type": "markdown",
   "metadata": {},
   "source": [
    "* A bit more physics\n",
    "* We are dealing with a 4-momentum (E,p) and so if we know the Kaon mass we can say\n",
    "\n",
    "$$ E^2 = m_{kaon}^2 + p_x^2 + p_y^2 + p_z^2$$\n",
    "\n",
    "* where we can look up the charged kaon mass, $ m_{kaon}$ in Particle Data Group or Wikipedia."
   ]
  },
  {
   "cell_type": "code",
   "execution_count": null,
   "metadata": {
    "scrolled": true
   },
   "outputs": [],
   "source": [
    "(-> (lhcb-opendata/with-energy spark-session sim \"H2_\")\n",
    "    (lhcb-opendata/histogram-col \"H2_P\" \"Second Kaon Energy\" \"Energy / MeV\" \"Count\"))"
   ]
  },
  {
   "cell_type": "markdown",
   "metadata": {},
   "source": [
    "* Now we have in our dataset a B meson that has decayed to three kaons\n",
    "\n",
    "$$ B^\\pm \\rightarrow K^+ K^- K^\\pm $$\n",
    "\n",
    "* As momentum and energy are conserved quantities we can reconstruct the B meson's enery and momentum"
   ]
  },
  {
   "cell_type": "code",
   "execution_count": null,
   "metadata": {},
   "outputs": [],
   "source": [
    "(defn reconstruct-momentum-and-energy\n",
    "  [ds b-col-prefix es pxs pys pzs]\n",
    "  (-> ds\n",
    "      (ds/with-column (str b-col-prefix \"E\") (sum-cols (map (partial ds/col ds) es)))\n",
    "      (ds/with-column (str b-col-prefix \"PX\") (sum-cols (map (partial ds/col ds) pxs)))\n",
    "      (ds/with-column (str b-col-prefix \"PY\") (sum-cols (map (partial ds/col ds) pys)))\n",
    "      (ds/with-column (str b-col-prefix \"PZ\") (sum-cols (map (partial ds/col ds) pzs)))))"
   ]
  },
  {
   "cell_type": "code",
   "execution_count": null,
   "metadata": {},
   "outputs": [],
   "source": [
    "(def sim\n",
    "  (reconstruct-momentum-and-energy sim\n",
    "                                   \"B_\"\n",
    "                                   [\"H1_E\" \"H2_E\" \"H3_E\"]\n",
    "                                   [\"H1_PX\" \"H2_PX\" \"H3_PX\"]\n",
    "                                   [\"H1_PY\" \"H2_PY\" \"H3_PY\"]\n",
    "                                   [\"H1_PZ\" \"H2_PZ\" \"H3_PZ\"]))"
   ]
  },
  {
   "cell_type": "markdown",
   "metadata": {},
   "source": [
    "* And using those we can calculate the invariant mass of the B meson"
   ]
  },
  {
   "cell_type": "code",
   "execution_count": null,
   "metadata": {},
   "outputs": [],
   "source": [
    "(histogram-col sim \"B_E\" \"B Energy\" \"Energy / MeV\" \"Count\")"
   ]
  },
  {
   "cell_type": "code",
   "execution_count": null,
   "metadata": {},
   "outputs": [],
   "source": [
    "(histogram-col sim \"B_PX\" \"B X-Axis Momentum\" \"Momentum / MeV/c\" \"Count\")"
   ]
  },
  {
   "cell_type": "code",
   "execution_count": null,
   "metadata": {},
   "outputs": [],
   "source": [
    "(histogram-col sim \"B_PY\" \"B Y-Axis Momentum\" \"Momentum / MeV/c\" \"Count\")"
   ]
  },
  {
   "cell_type": "code",
   "execution_count": null,
   "metadata": {},
   "outputs": [],
   "source": [
    "(histogram-col sim \"B_PZ\" \"B Z-Axis Momentum\" \"Momentum / MeV/c\" \"Count\")"
   ]
  },
  {
   "cell_type": "code",
   "execution_count": null,
   "metadata": {
    "scrolled": true
   },
   "outputs": [],
   "source": [
    "(def sim\n",
    "  (let [b-p2 (sum-squares (map (partial ds/col sim) [\"B_PX\" \"B_PY\" \"B_PZ\"]))]\n",
    "  (-> sim\n",
    "      (ds/with-column \"B_P2\" b-p2)\n",
    "      (ds/with-column \"B_P\" (functions/sqrt b-p2)))))"
   ]
  },
  {
   "cell_type": "code",
   "execution_count": null,
   "metadata": {},
   "outputs": [],
   "source": [
    "(histogram-col sim \"B_P\" \"B Momentum\" \"Momentum / MeV/c\" \"Count\")"
   ]
  },
  {
   "cell_type": "code",
   "execution_count": null,
   "metadata": {},
   "outputs": [],
   "source": [
    "(defn mass\n",
    "  [e-sq p-sq]\n",
    "  (functions/sqrt (.minus e-sq p-sq)))"
   ]
  },
  {
   "cell_type": "code",
   "execution_count": null,
   "metadata": {},
   "outputs": [],
   "source": [
    "(def sim\n",
    "    (-> sim\n",
    "        (ds/with-column \"B_Mass\" (mass (functions/pow (ds/col sim \"B_E\") 2.0) (ds/col sim \"B_P2\")))))"
   ]
  },
  {
   "cell_type": "code",
   "execution_count": null,
   "metadata": {},
   "outputs": [],
   "source": [
    "(histogram-col sim \"B_Mass\" \"B Mass\" \"Mass / MeV\" \"Count\")"
   ]
  },
  {
   "cell_type": "markdown",
   "metadata": {},
   "source": [
    "* That's not what we wanted\n",
    "* The simulation doesn't just contain the decays we want, it contains many possible decays to three hadrons\n",
    "* Lets select for kaons"
   ]
  },
  {
   "cell_type": "code",
   "execution_count": null,
   "metadata": {},
   "outputs": [],
   "source": [
    "(let [pxs     (map (fn [col-name] (ds/col sim col-name)) [\"H1_PX\" \"H2_PX\" \"H3_PX\"])\n",
    "      pys     (map (fn [col-name] (ds/col sim col-name)) [\"H1_PY\" \"H2_PY\" \"H3_PY\"])\n",
    "      pzs     (map (fn [col-name] (ds/col sim col-name)) [\"H1_PZ\" \"H2_PZ\" \"H3_PZ\"])\n",
    "      b-p-sq  (reconstruct-momentum-sq pxs pys pzs)\n",
    "      \n",
    "      h-e-sqs (map (fn [h-name]\n",
    "                     (sum-cols [kaon-mass-sq (sum-squares [(ds/col sim (str h-name \"_PX\"))\n",
    "                                                           (ds/col sim (str h-name \"_PY\"))\n",
    "                                                           (ds/col sim (str h-name \"_PZ\"))])]))\n",
    "                   [\"H1\" \"H2\" \"H3\"])\n",
    "      b-e-sq  (sum-cols h-e-sqs)\n",
    "      h-are-kaons (reduce (fn [are-ks probk] (.and are-ks (.equalTo probk 1.)))\n",
    "                          (.equalTo (ds/col sim \"H1_ProbK\") 1.) [(ds/col sim \"H2_ProbK\") (ds/col sim \"H3_ProbK\")])]\n",
    "    (-> sim\n",
    "        #_(ds/where h-are-kaons)\n",
    "        (ds/with-column \"B_M\" (.minus b-e-sq b-p-sq))\n",
    "        (ds/show)\n",
    "        #_(histogram-col \"B_M\" \"B Invariant Mass\" \"Mass / MeV\" \"Count\")))"
   ]
  },
  {
   "cell_type": "code",
   "execution_count": null,
   "metadata": {},
   "outputs": [],
   "source": [
    "(.maxMemory (Runtime/getRuntime))"
   ]
  }
 ],
 "metadata": {
  "kernelspec": {
   "display_name": "Clojure",
   "language": "clojure",
   "name": "clojure"
  },
  "language_info": {
   "codemirror_mode": "Clojure",
   "file_extension": ".clj",
   "mimetype": "text/x-clojure",
   "name": "Clojure",
   "nbconverter_exporter": "",
   "version": "1.9.0"
  },
  "toc": {
   "base_numbering": 1,
   "nav_menu": {},
   "number_sections": false,
   "sideBar": false,
   "skip_h1_title": false,
   "title_cell": "Table of Contents",
   "title_sidebar": "Contents",
   "toc_cell": false,
   "toc_position": {},
   "toc_section_display": false,
   "toc_window_display": false
  }
 },
 "nbformat": 4,
 "nbformat_minor": 2
}
